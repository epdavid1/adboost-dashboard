{
 "cells": [
  {
   "cell_type": "code",
   "execution_count": 5,
   "id": "2b689cfc-10a2-4674-82ba-c215e31deb66",
   "metadata": {},
   "outputs": [],
   "source": [
    "import gymnasium as gym\n",
    "from gymnasium.spaces import MultiDiscrete, Discrete, Box, Tuple\n",
    "import numpy as np\n",
    "import matplotlib.pyplot as plt\n",
    "import random"
   ]
  },
  {
   "cell_type": "code",
   "execution_count": null,
   "id": "1e5980d2-965a-4089-b2d8-a42006bf09a5",
   "metadata": {},
   "outputs": [],
   "source": [
    "class AdEnv(Env):\n",
    "    def __init__(self):\n",
    "        super(AdEnv, self).__init__()\n",
    "    \n",
    "\n",
    "        self.action_space"
   ]
  }
 ],
 "metadata": {
  "kernelspec": {
   "display_name": "Python 3 (ipykernel)",
   "language": "python",
   "name": "python3"
  },
  "language_info": {
   "codemirror_mode": {
    "name": "ipython",
    "version": 3
   },
   "file_extension": ".py",
   "mimetype": "text/x-python",
   "name": "python",
   "nbconvert_exporter": "python",
   "pygments_lexer": "ipython3",
   "version": "3.10.11"
  }
 },
 "nbformat": 4,
 "nbformat_minor": 5
}
