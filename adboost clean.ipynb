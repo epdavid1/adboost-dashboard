{
 "cells": [
  {
   "cell_type": "code",
   "execution_count": 77,
   "id": "9de15d10-f492-4210-887e-8ad190db8038",
   "metadata": {},
   "outputs": [],
   "source": [
    "import pandas as pd\n",
    "import numpy as np\n",
    "from feature_engine.creation import CyclicalFeatures\n",
    "import random\n",
    "from sklearn.ensemble import RandomForestClassifier\n",
    "from sklearn.metrics import classification_report, confusion_matrix\n",
    "from sklearn.preprocessing import MinMaxScaler\n",
    "from sklearn.cluster import KMeans\n",
    "from sklearn.model_selection import train_test_split\n",
    "from sklearn.neighbors import KNeighborsClassifier\n",
    "import seaborn as sns\n",
    "from lime import lime_tabular\n",
    "from yellowbrick.cluster import KElbowVisualizer\n",
    "from yellowbrick.cluster.elbow import kelbow_visualizer\n",
    "import plotly.express as px\n",
    "from xgboost import XGBClassifier\n",
    "import shap\n",
    "import pickle\n",
    "import warnings\n",
    "import matplotlib.pyplot as plt\n",
    "from sklearn.metrics import roc_curve, roc_auc_score\n",
    "warnings. filterwarnings('ignore')\n",
    "random.seed(42)\n",
    "np.random.seed(42)"
   ]
  },
  {
   "cell_type": "code",
   "execution_count": 74,
   "id": "a0859a73-5b0a-4106-a32b-2287d1215ed5",
   "metadata": {
    "scrolled": true
   },
   "outputs": [],
   "source": [
    "df = pd.read_csv('new dataset.csv', parse_dates=['Timestamp'])\n",
    "df = df.drop('Country', axis=1)\n",
    "\n",
    "df['Hour'] = df['Timestamp'].dt.hour\n",
    "cyclic = CyclicalFeatures(variables=None, drop_original=True)\n",
    "conv = cyclic.fit_transform(df[['Hour']])\n",
    "df = pd.concat([df, conv], axis=1)\n",
    "\n",
    "df['Weekend'] = df['Timestamp'].apply(lambda x: x.weekday() >= 5)\n",
    "df['Weekend'] = df['Weekend'].astype(int)\n",
    "\n",
    "random_integers = [random.randint(0, 1) for _ in range(len(df))]\n",
    "df['Introvert'] = random_integers\n",
    "\n",
    "random_notif = [random.randint(0, 3) for _ in range(len(df))]\n",
    "df['Ad Location'] = random_notif\n",
    "replace_notif = {0: 'Push Notif', 1: 'Pop Up', 2: 'Lower Banner', 3: 'Upper Banner'}\n",
    "\n",
    "df['Ad Location'] = df['Ad Location'].replace(replace_notif)\n",
    "df['Ad Category'] = None\n",
    "df['Ad Category'].iloc[df[(df['Age'] >= 40)].index] = 'Finance'                     \n",
    "df['Ad Category'].iloc[df[(df['Age'] >= 19) & (df['Age'] <= 40) & (df['Male'] == 0) & (df['Introvert'] == 0)].index] = 'Fashion'\n",
    "df['Ad Category'].iloc[df[(df['Age'] >= 19) & (df['Age'] <= 30) & (df['Male'] == 1) & (df['Introvert'] == 1)].index] = 'Games'\n",
    "df['Ad Category'].iloc[df[(df['Age'] >= 40)].index] = 'Finance'\n",
    "df['Ad Category'].iloc[df[(df['Age'] >= 19) & (df['Age'] <= 35) & (df['Hour'] > 12) & (df['Hour'] < 18)].index] = 'Food'\n",
    "df['Ad Category'].iloc[df[(df['Age'] >= 40) & (df['Age'] <= 50) & (df['Weekend'] == 1) & (df['Area Income'] > df['Area Income'].quantile(0.50))].index] = 'Travel'\n",
    "\n",
    "choices = ['Finance', 'Fashion', 'Food', 'Games', 'Travel']\n",
    "probs = [0.45, 0.25, 0.15, 0.08, 0.07]\n",
    "for i in df[df['Ad Category'].isna()].index:\n",
    "    df.at[i, 'Ad Category'] = random.choices(choices, probs)[0]"
   ]
  },
  {
   "cell_type": "code",
   "execution_count": 75,
   "id": "4549ef31-bc8b-4d60-9cab-3cb5f5b60b0f",
   "metadata": {},
   "outputs": [],
   "source": [
    "X = df.drop(['Timestamp', 'Clicked on Ad', 'Hour'], axis=1)\n",
    "X = pd.get_dummies(X, dtype='int')\n",
    "y = df[['Clicked on Ad']]\n",
    "X_train, X_test, y_train, y_test = train_test_split(X, y, test_size=0.25, random_state=42)"
   ]
  },
  {
   "cell_type": "code",
   "execution_count": null,
   "id": "0fbeb60f-0192-4435-a99c-ece45e566304",
   "metadata": {},
   "outputs": [],
   "source": [
    "df_dashboard = df.iloc[X_train.index]\n",
    "df_dashboard[['Timestamp', 'Age', 'Male', 'Introvert', 'Continent',  'Area Income', 'Daily Internet Usage', 'Daily Time Spent on Site',\n",
    "        'Ad Location', 'Ad Category', 'Clicked on Ad']].to_csv('df_dashboard.csv', index=False)"
   ]
  },
  {
   "cell_type": "code",
   "execution_count": null,
   "id": "177b0984-7852-42a7-8da3-223ef70383f0",
   "metadata": {},
   "outputs": [],
   "source": [
    "#df[['Timestamp', 'Age', 'Male', 'Introvert', 'Continent',  'Area Income', 'Daily Internet Usage', 'Daily Time Spent on Site',\n",
    "#        'Ad Location', 'Ad Category', 'Clicked on Ad']].to_csv('cleaned dataset.csv', index=False)"
   ]
  },
  {
   "cell_type": "code",
   "execution_count": null,
   "id": "606389a5-e586-4d82-a1d1-36d7da83f80f",
   "metadata": {},
   "outputs": [],
   "source": [
    "df_predict = df.iloc[X_test.index]\n",
    "df_predict[['Timestamp', 'Age', 'Male', 'Introvert', 'Continent',  'Area Income', 'Daily Internet Usage', 'Daily Time Spent on Site',\n",
    "        'Ad Location', 'Ad Category']].to_csv('df_predict.csv', index=False)"
   ]
  },
  {
   "cell_type": "code",
   "execution_count": null,
   "id": "4530f3d2-da90-4d35-85ea-4fa461611ebb",
   "metadata": {},
   "outputs": [],
   "source": [
    "rfc = RandomForestClassifier(random_state=42)\n",
    "rfc.fit(X_train, y_train)\n",
    "preds = rfc.predict(X_test)\n",
    "pickle.dump(rfc, open('rfc.pkl', 'wb'))\n",
    "print(classification_report(y_test, preds))\n",
    "print(confusion_matrix(y_test, preds))"
   ]
  },
  {
   "cell_type": "raw",
   "id": "6ac0124d-b28f-44fd-90ff-2de1bbc87284",
   "metadata": {},
   "source": [
    "explainer = lime_tabular.LimeTabularExplainer(X_train.to_numpy(),\n",
    "                                             mode=\"classification\",\n",
    "                                             training_labels=y_train,\n",
    "                                             feature_names=X_train.columns,\n",
    "                                             random_state=42,\n",
    "                                             )\n",
    "exp = explainer.explain_instance(X_train.iloc[100],\n",
    "                                        rfc.predict_proba,\n",
    "                                        num_features=len(X_train.columns)\n",
    "                                        )\n",
    "exp.show_in_notebook()"
   ]
  },
  {
   "cell_type": "code",
   "execution_count": null,
   "id": "06fd6587-22d7-40d1-8e60-38e825d64799",
   "metadata": {},
   "outputs": [],
   "source": [
    "explainer = shap.Explainer(rfc)\n",
    "shap_values = explainer.shap_values(X_train)\n",
    "shap.summary_plot(shap_values[1], features=X_train, alpha=0.5)"
   ]
  },
  {
   "cell_type": "code",
   "execution_count": 76,
   "id": "91e25854-bd6d-4f11-b1a7-934ef90c6a0c",
   "metadata": {},
   "outputs": [
    {
     "name": "stdout",
     "output_type": "stream",
     "text": [
      "              precision    recall  f1-score   support\n",
      "\n",
      "           0       0.95      0.95      0.95       120\n",
      "           1       0.95      0.95      0.95       130\n",
      "\n",
      "    accuracy                           0.95       250\n",
      "   macro avg       0.95      0.95      0.95       250\n",
      "weighted avg       0.95      0.95      0.95       250\n",
      "\n",
      "[[114   6]\n",
      " [  6 124]]\n"
     ]
    }
   ],
   "source": [
    "xgb = XGBClassifier(random_state=42)\n",
    "xgb.fit(X_train, y_train)\n",
    "preds = xgb.predict(X_test.values)\n",
    "#pickle.dump(xgb, open('xgb.pkl', 'wb'))\n",
    "print(classification_report(y_test, preds))\n",
    "print(confusion_matrix(y_test, preds))"
   ]
  },
  {
   "cell_type": "code",
   "execution_count": 86,
   "id": "235d29e0-a0a0-4a12-9002-278f267e114e",
   "metadata": {},
   "outputs": [],
   "source": [
    "preds_proba_1 = xgb.predict_proba(X_test.values)[:, 1]\n",
    "fpr, tpr, _ = roc_curve(y_test, preds_proba_1)\n",
    "auc = roc_auc_score(y_test, preds_proba_1)"
   ]
  },
  {
   "cell_type": "code",
   "execution_count": 93,
   "id": "6fbb481c-fc41-4f62-b4d6-ba2b5f1ae053",
   "metadata": {},
   "outputs": [
    {
     "data": {
      "application/vnd.plotly.v1+json": {
       "config": {
        "plotlyServerURL": "https://plot.ly"
       },
       "data": [
        {
         "hovertemplate": "x=%{x}<br>y=%{y}<extra></extra>",
         "legendgroup": "",
         "line": {
          "color": "#636efa",
          "dash": "solid"
         },
         "marker": {
          "symbol": "circle"
         },
         "mode": "lines",
         "name": "",
         "orientation": "v",
         "showlegend": false,
         "type": "scatter",
         "x": [
          0,
          0,
          0,
          0.008333333333333333,
          0.008333333333333333,
          0.016666666666666666,
          0.016666666666666666,
          0.025,
          0.025,
          0.03333333333333333,
          0.03333333333333333,
          0.041666666666666664,
          0.041666666666666664,
          0.05,
          0.05,
          0.10833333333333334,
          0.10833333333333334,
          0.14166666666666666,
          0.14166666666666666,
          0.26666666666666666,
          0.26666666666666666,
          0.55,
          0.55,
          0.6666666666666666,
          0.6666666666666666,
          1
         ],
         "xaxis": "x",
         "y": [
          0,
          0.007692307692307693,
          0.7538461538461538,
          0.7538461538461538,
          0.8615384615384616,
          0.8615384615384616,
          0.9,
          0.9,
          0.9076923076923077,
          0.9076923076923077,
          0.9307692307692308,
          0.9307692307692308,
          0.9384615384615385,
          0.9384615384615385,
          0.9538461538461539,
          0.9538461538461539,
          0.9615384615384616,
          0.9615384615384616,
          0.9692307692307692,
          0.9692307692307692,
          0.9769230769230769,
          0.9769230769230769,
          0.9923076923076923,
          0.9923076923076923,
          1,
          1
         ],
         "yaxis": "y"
        }
       ],
       "layout": {
        "autosize": true,
        "legend": {
         "tracegroupgap": 0
        },
        "margin": {
         "t": 60
        },
        "template": {
         "data": {
          "bar": [
           {
            "error_x": {
             "color": "#2a3f5f"
            },
            "error_y": {
             "color": "#2a3f5f"
            },
            "marker": {
             "line": {
              "color": "#E5ECF6",
              "width": 0.5
             },
             "pattern": {
              "fillmode": "overlay",
              "size": 10,
              "solidity": 0.2
             }
            },
            "type": "bar"
           }
          ],
          "barpolar": [
           {
            "marker": {
             "line": {
              "color": "#E5ECF6",
              "width": 0.5
             },
             "pattern": {
              "fillmode": "overlay",
              "size": 10,
              "solidity": 0.2
             }
            },
            "type": "barpolar"
           }
          ],
          "carpet": [
           {
            "aaxis": {
             "endlinecolor": "#2a3f5f",
             "gridcolor": "white",
             "linecolor": "white",
             "minorgridcolor": "white",
             "startlinecolor": "#2a3f5f"
            },
            "baxis": {
             "endlinecolor": "#2a3f5f",
             "gridcolor": "white",
             "linecolor": "white",
             "minorgridcolor": "white",
             "startlinecolor": "#2a3f5f"
            },
            "type": "carpet"
           }
          ],
          "choropleth": [
           {
            "colorbar": {
             "outlinewidth": 0,
             "ticks": ""
            },
            "type": "choropleth"
           }
          ],
          "contour": [
           {
            "colorbar": {
             "outlinewidth": 0,
             "ticks": ""
            },
            "colorscale": [
             [
              0,
              "#0d0887"
             ],
             [
              0.1111111111111111,
              "#46039f"
             ],
             [
              0.2222222222222222,
              "#7201a8"
             ],
             [
              0.3333333333333333,
              "#9c179e"
             ],
             [
              0.4444444444444444,
              "#bd3786"
             ],
             [
              0.5555555555555556,
              "#d8576b"
             ],
             [
              0.6666666666666666,
              "#ed7953"
             ],
             [
              0.7777777777777778,
              "#fb9f3a"
             ],
             [
              0.8888888888888888,
              "#fdca26"
             ],
             [
              1,
              "#f0f921"
             ]
            ],
            "type": "contour"
           }
          ],
          "contourcarpet": [
           {
            "colorbar": {
             "outlinewidth": 0,
             "ticks": ""
            },
            "type": "contourcarpet"
           }
          ],
          "heatmap": [
           {
            "colorbar": {
             "outlinewidth": 0,
             "ticks": ""
            },
            "colorscale": [
             [
              0,
              "#0d0887"
             ],
             [
              0.1111111111111111,
              "#46039f"
             ],
             [
              0.2222222222222222,
              "#7201a8"
             ],
             [
              0.3333333333333333,
              "#9c179e"
             ],
             [
              0.4444444444444444,
              "#bd3786"
             ],
             [
              0.5555555555555556,
              "#d8576b"
             ],
             [
              0.6666666666666666,
              "#ed7953"
             ],
             [
              0.7777777777777778,
              "#fb9f3a"
             ],
             [
              0.8888888888888888,
              "#fdca26"
             ],
             [
              1,
              "#f0f921"
             ]
            ],
            "type": "heatmap"
           }
          ],
          "heatmapgl": [
           {
            "colorbar": {
             "outlinewidth": 0,
             "ticks": ""
            },
            "colorscale": [
             [
              0,
              "#0d0887"
             ],
             [
              0.1111111111111111,
              "#46039f"
             ],
             [
              0.2222222222222222,
              "#7201a8"
             ],
             [
              0.3333333333333333,
              "#9c179e"
             ],
             [
              0.4444444444444444,
              "#bd3786"
             ],
             [
              0.5555555555555556,
              "#d8576b"
             ],
             [
              0.6666666666666666,
              "#ed7953"
             ],
             [
              0.7777777777777778,
              "#fb9f3a"
             ],
             [
              0.8888888888888888,
              "#fdca26"
             ],
             [
              1,
              "#f0f921"
             ]
            ],
            "type": "heatmapgl"
           }
          ],
          "histogram": [
           {
            "marker": {
             "pattern": {
              "fillmode": "overlay",
              "size": 10,
              "solidity": 0.2
             }
            },
            "type": "histogram"
           }
          ],
          "histogram2d": [
           {
            "colorbar": {
             "outlinewidth": 0,
             "ticks": ""
            },
            "colorscale": [
             [
              0,
              "#0d0887"
             ],
             [
              0.1111111111111111,
              "#46039f"
             ],
             [
              0.2222222222222222,
              "#7201a8"
             ],
             [
              0.3333333333333333,
              "#9c179e"
             ],
             [
              0.4444444444444444,
              "#bd3786"
             ],
             [
              0.5555555555555556,
              "#d8576b"
             ],
             [
              0.6666666666666666,
              "#ed7953"
             ],
             [
              0.7777777777777778,
              "#fb9f3a"
             ],
             [
              0.8888888888888888,
              "#fdca26"
             ],
             [
              1,
              "#f0f921"
             ]
            ],
            "type": "histogram2d"
           }
          ],
          "histogram2dcontour": [
           {
            "colorbar": {
             "outlinewidth": 0,
             "ticks": ""
            },
            "colorscale": [
             [
              0,
              "#0d0887"
             ],
             [
              0.1111111111111111,
              "#46039f"
             ],
             [
              0.2222222222222222,
              "#7201a8"
             ],
             [
              0.3333333333333333,
              "#9c179e"
             ],
             [
              0.4444444444444444,
              "#bd3786"
             ],
             [
              0.5555555555555556,
              "#d8576b"
             ],
             [
              0.6666666666666666,
              "#ed7953"
             ],
             [
              0.7777777777777778,
              "#fb9f3a"
             ],
             [
              0.8888888888888888,
              "#fdca26"
             ],
             [
              1,
              "#f0f921"
             ]
            ],
            "type": "histogram2dcontour"
           }
          ],
          "mesh3d": [
           {
            "colorbar": {
             "outlinewidth": 0,
             "ticks": ""
            },
            "type": "mesh3d"
           }
          ],
          "parcoords": [
           {
            "line": {
             "colorbar": {
              "outlinewidth": 0,
              "ticks": ""
             }
            },
            "type": "parcoords"
           }
          ],
          "pie": [
           {
            "automargin": true,
            "type": "pie"
           }
          ],
          "scatter": [
           {
            "fillpattern": {
             "fillmode": "overlay",
             "size": 10,
             "solidity": 0.2
            },
            "type": "scatter"
           }
          ],
          "scatter3d": [
           {
            "line": {
             "colorbar": {
              "outlinewidth": 0,
              "ticks": ""
             }
            },
            "marker": {
             "colorbar": {
              "outlinewidth": 0,
              "ticks": ""
             }
            },
            "type": "scatter3d"
           }
          ],
          "scattercarpet": [
           {
            "marker": {
             "colorbar": {
              "outlinewidth": 0,
              "ticks": ""
             }
            },
            "type": "scattercarpet"
           }
          ],
          "scattergeo": [
           {
            "marker": {
             "colorbar": {
              "outlinewidth": 0,
              "ticks": ""
             }
            },
            "type": "scattergeo"
           }
          ],
          "scattergl": [
           {
            "marker": {
             "colorbar": {
              "outlinewidth": 0,
              "ticks": ""
             }
            },
            "type": "scattergl"
           }
          ],
          "scattermapbox": [
           {
            "marker": {
             "colorbar": {
              "outlinewidth": 0,
              "ticks": ""
             }
            },
            "type": "scattermapbox"
           }
          ],
          "scatterpolar": [
           {
            "marker": {
             "colorbar": {
              "outlinewidth": 0,
              "ticks": ""
             }
            },
            "type": "scatterpolar"
           }
          ],
          "scatterpolargl": [
           {
            "marker": {
             "colorbar": {
              "outlinewidth": 0,
              "ticks": ""
             }
            },
            "type": "scatterpolargl"
           }
          ],
          "scatterternary": [
           {
            "marker": {
             "colorbar": {
              "outlinewidth": 0,
              "ticks": ""
             }
            },
            "type": "scatterternary"
           }
          ],
          "surface": [
           {
            "colorbar": {
             "outlinewidth": 0,
             "ticks": ""
            },
            "colorscale": [
             [
              0,
              "#0d0887"
             ],
             [
              0.1111111111111111,
              "#46039f"
             ],
             [
              0.2222222222222222,
              "#7201a8"
             ],
             [
              0.3333333333333333,
              "#9c179e"
             ],
             [
              0.4444444444444444,
              "#bd3786"
             ],
             [
              0.5555555555555556,
              "#d8576b"
             ],
             [
              0.6666666666666666,
              "#ed7953"
             ],
             [
              0.7777777777777778,
              "#fb9f3a"
             ],
             [
              0.8888888888888888,
              "#fdca26"
             ],
             [
              1,
              "#f0f921"
             ]
            ],
            "type": "surface"
           }
          ],
          "table": [
           {
            "cells": {
             "fill": {
              "color": "#EBF0F8"
             },
             "line": {
              "color": "white"
             }
            },
            "header": {
             "fill": {
              "color": "#C8D4E3"
             },
             "line": {
              "color": "white"
             }
            },
            "type": "table"
           }
          ]
         },
         "layout": {
          "annotationdefaults": {
           "arrowcolor": "#2a3f5f",
           "arrowhead": 0,
           "arrowwidth": 1
          },
          "autotypenumbers": "strict",
          "coloraxis": {
           "colorbar": {
            "outlinewidth": 0,
            "ticks": ""
           }
          },
          "colorscale": {
           "diverging": [
            [
             0,
             "#8e0152"
            ],
            [
             0.1,
             "#c51b7d"
            ],
            [
             0.2,
             "#de77ae"
            ],
            [
             0.3,
             "#f1b6da"
            ],
            [
             0.4,
             "#fde0ef"
            ],
            [
             0.5,
             "#f7f7f7"
            ],
            [
             0.6,
             "#e6f5d0"
            ],
            [
             0.7,
             "#b8e186"
            ],
            [
             0.8,
             "#7fbc41"
            ],
            [
             0.9,
             "#4d9221"
            ],
            [
             1,
             "#276419"
            ]
           ],
           "sequential": [
            [
             0,
             "#0d0887"
            ],
            [
             0.1111111111111111,
             "#46039f"
            ],
            [
             0.2222222222222222,
             "#7201a8"
            ],
            [
             0.3333333333333333,
             "#9c179e"
            ],
            [
             0.4444444444444444,
             "#bd3786"
            ],
            [
             0.5555555555555556,
             "#d8576b"
            ],
            [
             0.6666666666666666,
             "#ed7953"
            ],
            [
             0.7777777777777778,
             "#fb9f3a"
            ],
            [
             0.8888888888888888,
             "#fdca26"
            ],
            [
             1,
             "#f0f921"
            ]
           ],
           "sequentialminus": [
            [
             0,
             "#0d0887"
            ],
            [
             0.1111111111111111,
             "#46039f"
            ],
            [
             0.2222222222222222,
             "#7201a8"
            ],
            [
             0.3333333333333333,
             "#9c179e"
            ],
            [
             0.4444444444444444,
             "#bd3786"
            ],
            [
             0.5555555555555556,
             "#d8576b"
            ],
            [
             0.6666666666666666,
             "#ed7953"
            ],
            [
             0.7777777777777778,
             "#fb9f3a"
            ],
            [
             0.8888888888888888,
             "#fdca26"
            ],
            [
             1,
             "#f0f921"
            ]
           ]
          },
          "colorway": [
           "#636efa",
           "#EF553B",
           "#00cc96",
           "#ab63fa",
           "#FFA15A",
           "#19d3f3",
           "#FF6692",
           "#B6E880",
           "#FF97FF",
           "#FECB52"
          ],
          "font": {
           "color": "#2a3f5f"
          },
          "geo": {
           "bgcolor": "white",
           "lakecolor": "white",
           "landcolor": "#E5ECF6",
           "showlakes": true,
           "showland": true,
           "subunitcolor": "white"
          },
          "hoverlabel": {
           "align": "left"
          },
          "hovermode": "closest",
          "mapbox": {
           "style": "light"
          },
          "paper_bgcolor": "white",
          "plot_bgcolor": "#E5ECF6",
          "polar": {
           "angularaxis": {
            "gridcolor": "white",
            "linecolor": "white",
            "ticks": ""
           },
           "bgcolor": "#E5ECF6",
           "radialaxis": {
            "gridcolor": "white",
            "linecolor": "white",
            "ticks": ""
           }
          },
          "scene": {
           "xaxis": {
            "backgroundcolor": "#E5ECF6",
            "gridcolor": "white",
            "gridwidth": 2,
            "linecolor": "white",
            "showbackground": true,
            "ticks": "",
            "zerolinecolor": "white"
           },
           "yaxis": {
            "backgroundcolor": "#E5ECF6",
            "gridcolor": "white",
            "gridwidth": 2,
            "linecolor": "white",
            "showbackground": true,
            "ticks": "",
            "zerolinecolor": "white"
           },
           "zaxis": {
            "backgroundcolor": "#E5ECF6",
            "gridcolor": "white",
            "gridwidth": 2,
            "linecolor": "white",
            "showbackground": true,
            "ticks": "",
            "zerolinecolor": "white"
           }
          },
          "shapedefaults": {
           "line": {
            "color": "#2a3f5f"
           }
          },
          "ternary": {
           "aaxis": {
            "gridcolor": "white",
            "linecolor": "white",
            "ticks": ""
           },
           "baxis": {
            "gridcolor": "white",
            "linecolor": "white",
            "ticks": ""
           },
           "bgcolor": "#E5ECF6",
           "caxis": {
            "gridcolor": "white",
            "linecolor": "white",
            "ticks": ""
           }
          },
          "title": {
           "x": 0.05
          },
          "xaxis": {
           "automargin": true,
           "gridcolor": "white",
           "linecolor": "white",
           "ticks": "",
           "title": {
            "standoff": 15
           },
           "zerolinecolor": "white",
           "zerolinewidth": 2
          },
          "yaxis": {
           "automargin": true,
           "gridcolor": "white",
           "linecolor": "white",
           "ticks": "",
           "title": {
            "standoff": 15
           },
           "zerolinecolor": "white",
           "zerolinewidth": 2
          }
         }
        },
        "xaxis": {
         "anchor": "y",
         "autorange": true,
         "domain": [
          0,
          1
         ],
         "range": [
          0,
          1
         ],
         "title": {
          "text": "x"
         },
         "type": "linear"
        },
        "yaxis": {
         "anchor": "x",
         "autorange": true,
         "domain": [
          0,
          1
         ],
         "range": [
          -0.05555555555555556,
          1.0555555555555556
         ],
         "title": {
          "text": "y"
         },
         "type": "linear"
        }
       }
      },
      "image/png": "[encoded data removed]",
      "text/html": [
       "<div>                            <div id=\"fe426c1e-dcbc-4817-80ed-8e13467c5a95\" class=\"plotly-graph-div\" style=\"height:525px; width:100%;\"></div>            <script type=\"text/javascript\">                require([\"plotly\"], function(Plotly) {                    window.PLOTLYENV=window.PLOTLYENV || {};                                    if (document.getElementById(\"fe426c1e-dcbc-4817-80ed-8e13467c5a95\")) {                    Plotly.newPlot(                        \"fe426c1e-dcbc-4817-80ed-8e13467c5a95\",                        [{\"hovertemplate\":\"x=%{x}\\u003cbr\\u003ey=%{y}\\u003cextra\\u003e\\u003c\\u002fextra\\u003e\",\"legendgroup\":\"\",\"line\":{\"color\":\"#636efa\",\"dash\":\"solid\"},\"marker\":{\"symbol\":\"circle\"},\"mode\":\"lines\",\"name\":\"\",\"orientation\":\"v\",\"showlegend\":false,\"x\":[0.0,0.0,0.0,0.008333333333333333,0.008333333333333333,0.016666666666666666,0.016666666666666666,0.025,0.025,0.03333333333333333,0.03333333333333333,0.041666666666666664,0.041666666666666664,0.05,0.05,0.10833333333333334,0.10833333333333334,0.14166666666666666,0.14166666666666666,0.26666666666666666,0.26666666666666666,0.55,0.55,0.6666666666666666,0.6666666666666666,1.0],\"xaxis\":\"x\",\"y\":[0.0,0.007692307692307693,0.7538461538461538,0.7538461538461538,0.8615384615384616,0.8615384615384616,0.9,0.9,0.9076923076923077,0.9076923076923077,0.9307692307692308,0.9307692307692308,0.9384615384615385,0.9384615384615385,0.9538461538461539,0.9538461538461539,0.9615384615384616,0.9615384615384616,0.9692307692307692,0.9692307692307692,0.9769230769230769,0.9769230769230769,0.9923076923076923,0.9923076923076923,1.0,1.0],\"yaxis\":\"y\",\"type\":\"scatter\"}],                        {\"template\":{\"data\":{\"histogram2dcontour\":[{\"type\":\"histogram2dcontour\",\"colorbar\":{\"outlinewidth\":0,\"ticks\":\"\"},\"colorscale\":[[0.0,\"#0d0887\"],[0.1111111111111111,\"#46039f\"],[0.2222222222222222,\"#7201a8\"],[0.3333333333333333,\"#9c179e\"],[0.4444444444444444,\"#bd3786\"],[0.5555555555555556,\"#d8576b\"],[0.6666666666666666,\"#ed7953\"],[0.7777777777777778,\"#fb9f3a\"],[0.8888888888888888,\"#fdca26\"],[1.0,\"#f0f921\"]]}],\"choropleth\":[{\"type\":\"choropleth\",\"colorbar\":{\"outlinewidth\":0,\"ticks\":\"\"}}],\"histogram2d\":[{\"type\":\"histogram2d\",\"colorbar\":{\"outlinewidth\":0,\"ticks\":\"\"},\"colorscale\":[[0.0,\"#0d0887\"],[0.1111111111111111,\"#46039f\"],[0.2222222222222222,\"#7201a8\"],[0.3333333333333333,\"#9c179e\"],[0.4444444444444444,\"#bd3786\"],[0.5555555555555556,\"#d8576b\"],[0.6666666666666666,\"#ed7953\"],[0.7777777777777778,\"#fb9f3a\"],[0.8888888888888888,\"#fdca26\"],[1.0,\"#f0f921\"]]}],\"heatmap\":[{\"type\":\"heatmap\",\"colorbar\":{\"outlinewidth\":0,\"ticks\":\"\"},\"colorscale\":[[0.0,\"#0d0887\"],[0.1111111111111111,\"#46039f\"],[0.2222222222222222,\"#7201a8\"],[0.3333333333333333,\"#9c179e\"],[0.4444444444444444,\"#bd3786\"],[0.5555555555555556,\"#d8576b\"],[0.6666666666666666,\"#ed7953\"],[0.7777777777777778,\"#fb9f3a\"],[0.8888888888888888,\"#fdca26\"],[1.0,\"#f0f921\"]]}],\"heatmapgl\":[{\"type\":\"heatmapgl\",\"colorbar\":{\"outlinewidth\":0,\"ticks\":\"\"},\"colorscale\":[[0.0,\"#0d0887\"],[0.1111111111111111,\"#46039f\"],[0.2222222222222222,\"#7201a8\"],[0.3333333333333333,\"#9c179e\"],[0.4444444444444444,\"#bd3786\"],[0.5555555555555556,\"#d8576b\"],[0.6666666666666666,\"#ed7953\"],[0.7777777777777778,\"#fb9f3a\"],[0.8888888888888888,\"#fdca26\"],[1.0,\"#f0f921\"]]}],\"contourcarpet\":[{\"type\":\"contourcarpet\",\"colorbar\":{\"outlinewidth\":0,\"ticks\":\"\"}}],\"contour\":[{\"type\":\"contour\",\"colorbar\":{\"outlinewidth\":0,\"ticks\":\"\"},\"colorscale\":[[0.0,\"#0d0887\"],[0.1111111111111111,\"#46039f\"],[0.2222222222222222,\"#7201a8\"],[0.3333333333333333,\"#9c179e\"],[0.4444444444444444,\"#bd3786\"],[0.5555555555555556,\"#d8576b\"],[0.6666666666666666,\"#ed7953\"],[0.7777777777777778,\"#fb9f3a\"],[0.8888888888888888,\"#fdca26\"],[1.0,\"#f0f921\"]]}],\"surface\":[{\"type\":\"surface\",\"colorbar\":{\"outlinewidth\":0,\"ticks\":\"\"},\"colorscale\":[[0.0,\"#0d0887\"],[0.1111111111111111,\"#46039f\"],[0.2222222222222222,\"#7201a8\"],[0.3333333333333333,\"#9c179e\"],[0.4444444444444444,\"#bd3786\"],[0.5555555555555556,\"#d8576b\"],[0.6666666666666666,\"#ed7953\"],[0.7777777777777778,\"#fb9f3a\"],[0.8888888888888888,\"#fdca26\"],[1.0,\"#f0f921\"]]}],\"mesh3d\":[{\"type\":\"mesh3d\",\"colorbar\":{\"outlinewidth\":0,\"ticks\":\"\"}}],\"scatter\":[{\"fillpattern\":{\"fillmode\":\"overlay\",\"size\":10,\"solidity\":0.2},\"type\":\"scatter\"}],\"parcoords\":[{\"type\":\"parcoords\",\"line\":{\"colorbar\":{\"outlinewidth\":0,\"ticks\":\"\"}}}],\"scatterpolargl\":[{\"type\":\"scatterpolargl\",\"marker\":{\"colorbar\":{\"outlinewidth\":0,\"ticks\":\"\"}}}],\"bar\":[{\"error_x\":{\"color\":\"#2a3f5f\"},\"error_y\":{\"color\":\"#2a3f5f\"},\"marker\":{\"line\":{\"color\":\"#E5ECF6\",\"width\":0.5},\"pattern\":{\"fillmode\":\"overlay\",\"size\":10,\"solidity\":0.2}},\"type\":\"bar\"}],\"scattergeo\":[{\"type\":\"scattergeo\",\"marker\":{\"colorbar\":{\"outlinewidth\":0,\"ticks\":\"\"}}}],\"scatterpolar\":[{\"type\":\"scatterpolar\",\"marker\":{\"colorbar\":{\"outlinewidth\":0,\"ticks\":\"\"}}}],\"histogram\":[{\"marker\":{\"pattern\":{\"fillmode\":\"overlay\",\"size\":10,\"solidity\":0.2}},\"type\":\"histogram\"}],\"scattergl\":[{\"type\":\"scattergl\",\"marker\":{\"colorbar\":{\"outlinewidth\":0,\"ticks\":\"\"}}}],\"scatter3d\":[{\"type\":\"scatter3d\",\"line\":{\"colorbar\":{\"outlinewidth\":0,\"ticks\":\"\"}},\"marker\":{\"colorbar\":{\"outlinewidth\":0,\"ticks\":\"\"}}}],\"scattermapbox\":[{\"type\":\"scattermapbox\",\"marker\":{\"colorbar\":{\"outlinewidth\":0,\"ticks\":\"\"}}}],\"scatterternary\":[{\"type\":\"scatterternary\",\"marker\":{\"colorbar\":{\"outlinewidth\":0,\"ticks\":\"\"}}}],\"scattercarpet\":[{\"type\":\"scattercarpet\",\"marker\":{\"colorbar\":{\"outlinewidth\":0,\"ticks\":\"\"}}}],\"carpet\":[{\"aaxis\":{\"endlinecolor\":\"#2a3f5f\",\"gridcolor\":\"white\",\"linecolor\":\"white\",\"minorgridcolor\":\"white\",\"startlinecolor\":\"#2a3f5f\"},\"baxis\":{\"endlinecolor\":\"#2a3f5f\",\"gridcolor\":\"white\",\"linecolor\":\"white\",\"minorgridcolor\":\"white\",\"startlinecolor\":\"#2a3f5f\"},\"type\":\"carpet\"}],\"table\":[{\"cells\":{\"fill\":{\"color\":\"#EBF0F8\"},\"line\":{\"color\":\"white\"}},\"header\":{\"fill\":{\"color\":\"#C8D4E3\"},\"line\":{\"color\":\"white\"}},\"type\":\"table\"}],\"barpolar\":[{\"marker\":{\"line\":{\"color\":\"#E5ECF6\",\"width\":0.5},\"pattern\":{\"fillmode\":\"overlay\",\"size\":10,\"solidity\":0.2}},\"type\":\"barpolar\"}],\"pie\":[{\"automargin\":true,\"type\":\"pie\"}]},\"layout\":{\"autotypenumbers\":\"strict\",\"colorway\":[\"#636efa\",\"#EF553B\",\"#00cc96\",\"#ab63fa\",\"#FFA15A\",\"#19d3f3\",\"#FF6692\",\"#B6E880\",\"#FF97FF\",\"#FECB52\"],\"font\":{\"color\":\"#2a3f5f\"},\"hovermode\":\"closest\",\"hoverlabel\":{\"align\":\"left\"},\"paper_bgcolor\":\"white\",\"plot_bgcolor\":\"#E5ECF6\",\"polar\":{\"bgcolor\":\"#E5ECF6\",\"angularaxis\":{\"gridcolor\":\"white\",\"linecolor\":\"white\",\"ticks\":\"\"},\"radialaxis\":{\"gridcolor\":\"white\",\"linecolor\":\"white\",\"ticks\":\"\"}},\"ternary\":{\"bgcolor\":\"#E5ECF6\",\"aaxis\":{\"gridcolor\":\"white\",\"linecolor\":\"white\",\"ticks\":\"\"},\"baxis\":{\"gridcolor\":\"white\",\"linecolor\":\"white\",\"ticks\":\"\"},\"caxis\":{\"gridcolor\":\"white\",\"linecolor\":\"white\",\"ticks\":\"\"}},\"coloraxis\":{\"colorbar\":{\"outlinewidth\":0,\"ticks\":\"\"}},\"colorscale\":{\"sequential\":[[0.0,\"#0d0887\"],[0.1111111111111111,\"#46039f\"],[0.2222222222222222,\"#7201a8\"],[0.3333333333333333,\"#9c179e\"],[0.4444444444444444,\"#bd3786\"],[0.5555555555555556,\"#d8576b\"],[0.6666666666666666,\"#ed7953\"],[0.7777777777777778,\"#fb9f3a\"],[0.8888888888888888,\"#fdca26\"],[1.0,\"#f0f921\"]],\"sequentialminus\":[[0.0,\"#0d0887\"],[0.1111111111111111,\"#46039f\"],[0.2222222222222222,\"#7201a8\"],[0.3333333333333333,\"#9c179e\"],[0.4444444444444444,\"#bd3786\"],[0.5555555555555556,\"#d8576b\"],[0.6666666666666666,\"#ed7953\"],[0.7777777777777778,\"#fb9f3a\"],[0.8888888888888888,\"#fdca26\"],[1.0,\"#f0f921\"]],\"diverging\":[[0,\"#8e0152\"],[0.1,\"#c51b7d\"],[0.2,\"#de77ae\"],[0.3,\"#f1b6da\"],[0.4,\"#fde0ef\"],[0.5,\"#f7f7f7\"],[0.6,\"#e6f5d0\"],[0.7,\"#b8e186\"],[0.8,\"#7fbc41\"],[0.9,\"#4d9221\"],[1,\"#276419\"]]},\"xaxis\":{\"gridcolor\":\"white\",\"linecolor\":\"white\",\"ticks\":\"\",\"title\":{\"standoff\":15},\"zerolinecolor\":\"white\",\"automargin\":true,\"zerolinewidth\":2},\"yaxis\":{\"gridcolor\":\"white\",\"linecolor\":\"white\",\"ticks\":\"\",\"title\":{\"standoff\":15},\"zerolinecolor\":\"white\",\"automargin\":true,\"zerolinewidth\":2},\"scene\":{\"xaxis\":{\"backgroundcolor\":\"#E5ECF6\",\"gridcolor\":\"white\",\"linecolor\":\"white\",\"showbackground\":true,\"ticks\":\"\",\"zerolinecolor\":\"white\",\"gridwidth\":2},\"yaxis\":{\"backgroundcolor\":\"#E5ECF6\",\"gridcolor\":\"white\",\"linecolor\":\"white\",\"showbackground\":true,\"ticks\":\"\",\"zerolinecolor\":\"white\",\"gridwidth\":2},\"zaxis\":{\"backgroundcolor\":\"#E5ECF6\",\"gridcolor\":\"white\",\"linecolor\":\"white\",\"showbackground\":true,\"ticks\":\"\",\"zerolinecolor\":\"white\",\"gridwidth\":2}},\"shapedefaults\":{\"line\":{\"color\":\"#2a3f5f\"}},\"annotationdefaults\":{\"arrowcolor\":\"#2a3f5f\",\"arrowhead\":0,\"arrowwidth\":1},\"geo\":{\"bgcolor\":\"white\",\"landcolor\":\"#E5ECF6\",\"subunitcolor\":\"white\",\"showland\":true,\"showlakes\":true,\"lakecolor\":\"white\"},\"title\":{\"x\":0.05},\"mapbox\":{\"style\":\"light\"}}},\"xaxis\":{\"anchor\":\"y\",\"domain\":[0.0,1.0],\"title\":{\"text\":\"x\"}},\"yaxis\":{\"anchor\":\"x\",\"domain\":[0.0,1.0],\"title\":{\"text\":\"y\"}},\"legend\":{\"tracegroupgap\":0},\"margin\":{\"t\":60}},                        {\"responsive\": true}                    ).then(function(){\n",
       "                            \n",
       "var gd = document.getElementById('fe426c1e-dcbc-4817-80ed-8e13467c5a95');\n",
       "var x = new MutationObserver(function (mutations, observer) {{\n",
       "        var display = window.getComputedStyle(gd).display;\n",
       "        if (!display || display === 'none') {{\n",
       "            console.log([gd, 'removed!']);\n",
       "            Plotly.purge(gd);\n",
       "            observer.disconnect();\n",
       "        }}\n",
       "}});\n",
       "\n",
       "// Listen for the removal of the full notebook cells\n",
       "var notebookContainer = gd.closest('#notebook-container');\n",
       "if (notebookContainer) {{\n",
       "    x.observe(notebookContainer, {childList: true});\n",
       "}}\n",
       "\n",
       "// Listen for the clearing of the current output cell\n",
       "var outputEl = gd.closest('.output');\n",
       "if (outputEl) {{\n",
       "    x.observe(outputEl, {childList: true});\n",
       "}}\n",
       "\n",
       "                        })                };                });            </script>        </div>"
      ]
     },
     "metadata": {},
     "output_type": "display_data"
    }
   ],
   "source": [
    "px.line(x=fpr, y=tpr)"
   ]
  },
  {
   "cell_type": "code",
   "execution_count": null,
   "id": "5bcef80f-a98e-43fd-8f46-7f40d672ddca",
   "metadata": {},
   "outputs": [],
   "source": []
  },
  {
   "cell_type": "code",
   "execution_count": null,
   "id": "80585848-7a42-4f74-bc48-0610b7cd3e19",
   "metadata": {},
   "outputs": [],
   "source": []
  },
  {
   "cell_type": "code",
   "execution_count": null,
   "id": "e42fb41d-62f2-4c3c-a4b7-7f0bd5c3e7a1",
   "metadata": {},
   "outputs": [],
   "source": [
    "explainer = shap.Explainer(xgb)\n",
    "shap_values = explainer.shap_values(X_train[pd.concat([X_train, y_train], axis=1)['Clicked on Ad'] == 1])\n",
    "shap.summary_plot(shap_values, features=X_train[pd.concat([X_train, y_train], axis=1)['Clicked on Ad'] == 1], alpha=0.5)"
   ]
  },
  {
   "cell_type": "code",
   "execution_count": null,
   "id": "6ff28780-8374-457d-bee7-0d9c176c4023",
   "metadata": {},
   "outputs": [],
   "source": [
    "df_cluster = pd.concat([X_train, y_train], axis=1)\n",
    "df_cluster_finance = df_cluster[(df_cluster['Clicked on Ad'] == 1) & (df_cluster['Ad Category_Finance'] == 1)].drop(['Clicked on Ad', 'Ad Category_Finance'], axis=1)\n",
    "df_cluster_fashion = df_cluster[(df_cluster['Clicked on Ad'] == 1) & (df_cluster['Ad Category_Fashion'] == 1)].drop(['Clicked on Ad', 'Ad Category_Fashion'], axis=1)\n",
    "df_cluster_food = df_cluster[(df_cluster['Clicked on Ad'] == 1) & (df_cluster['Ad Category_Food'] == 1)].drop(['Clicked on Ad', 'Ad Category_Food'], axis=1)\n",
    "df_cluster_games = df_cluster[(df_cluster['Clicked on Ad'] == 1) & (df_cluster['Ad Category_Games'] == 1)].drop(['Clicked on Ad', 'Ad Category_Games'], axis=1)\n",
    "df_cluster_travel = df_cluster[(df_cluster['Clicked on Ad'] == 1) & (df_cluster['Ad Category_Travel'] == 1)].drop(['Clicked on Ad', 'Ad Category_Travel'], axis=1)"
   ]
  },
  {
   "cell_type": "code",
   "execution_count": null,
   "id": "7819b428-29dc-4fc0-871a-9705bbabe0c7",
   "metadata": {},
   "outputs": [],
   "source": [
    "scaler_finance = MinMaxScaler()\n",
    "k = kelbow_visualizer(KMeans(), scaler.fit_transform(df_cluster_finance), k=(2,10)).elbow_value_\n",
    "kmeans_finance = KMeans(n_clusters=k)\n",
    "kmeans_finance.fit(scaler.fit_transform(df_cluster_finance))"
   ]
  },
  {
   "cell_type": "code",
   "execution_count": null,
   "id": "cda960e4-238e-4c38-8dff-ec98f2dfaeea",
   "metadata": {},
   "outputs": [],
   "source": [
    "kmeans_finance.labels_"
   ]
  },
  {
   "cell_type": "code",
   "execution_count": null,
   "id": "e3bbc8e8-9d26-40b8-bafa-708104f9014a",
   "metadata": {},
   "outputs": [],
   "source": [
    "scaler_fashion = MinMaxScaler()\n",
    "k = kelbow_visualizer(KMeans(), scaler.fit_transform(df_cluster_fashion), k=(2,10)).elbow_value_\n",
    "kmeans_fashion = KMeans(n_clusters=k)\n",
    "kmeans_fashion.fit(scaler.fit_transform(df_cluster_fashion))"
   ]
  },
  {
   "cell_type": "code",
   "execution_count": null,
   "id": "05c6b54b-c707-4704-a72a-0e6c7602cbca",
   "metadata": {},
   "outputs": [],
   "source": [
    "scaler_food = MinMaxScaler()\n",
    "k = kelbow_visualizer(KMeans(), scaler.fit_transform(df_cluster_food), k=(2,10)).elbow_value_\n",
    "kmeans_food = KMeans(n_clusters=k)\n",
    "kmeans_food.fit(scaler.fit_transform(df_cluster_food))"
   ]
  },
  {
   "cell_type": "code",
   "execution_count": null,
   "id": "7c6a62ac-46dd-4e24-88d4-b25795a7989b",
   "metadata": {},
   "outputs": [],
   "source": [
    "scaler_games = MinMaxScaler()\n",
    "k = kelbow_visualizer(KMeans(), scaler.fit_transform(df_cluster_games), k=(2,10)).elbow_value_\n",
    "kmeans_games = KMeans(n_clusters=k)\n",
    "kmeans_games.fit(scaler.fit_transform(df_cluster_games))"
   ]
  },
  {
   "cell_type": "code",
   "execution_count": null,
   "id": "c43db960-bfec-4d32-b03a-e02c8d74d9d5",
   "metadata": {},
   "outputs": [],
   "source": [
    "pickle.dump(scaler_finance, open('scaler_finance.pkl', 'wb'))\n",
    "pickle.dump(kmeans_finance, open('kmeans_finance.pkl', 'wb'))\n",
    "pickle.dump(scaler_fashion, open('scaler_fashion.pkl', 'wb'))\n",
    "pickle.dump(kmeans_fashion, open('kmeans_fashion.pkl', 'wb'))\n",
    "pickle.dump(scaler_food, open('scaler_food.pkl', 'wb'))\n",
    "pickle.dump(kmeans_food, open('kmeans_food.pkl', 'wb'))\n",
    "pickle.dump(scaler_games, open('scaler_games.pkl', 'wb'))\n",
    "pickle.dump(kmeans_games, open('kmeans_games.pkl', 'wb'))"
   ]
  },
  {
   "cell_type": "code",
   "execution_count": null,
   "id": "6859c666-b0fc-401f-8613-3a8b4103965e",
   "metadata": {},
   "outputs": [],
   "source": [
    "df_cluster_finance['cluster'] = kmeans_finance.labels_"
   ]
  },
  {
   "cell_type": "code",
   "execution_count": null,
   "id": "6757c8c3-b528-4b7e-8104-09b6b6af0d38",
   "metadata": {},
   "outputs": [],
   "source": [
    "df_cluster_finance['cluster'].value_counts()"
   ]
  },
  {
   "cell_type": "code",
   "execution_count": null,
   "id": "a69186e5-b072-4002-9c8d-391c19d12c67",
   "metadata": {},
   "outputs": [],
   "source": []
  },
  {
   "cell_type": "code",
   "execution_count": null,
   "id": "99878250-36f3-434a-a123-73b34695d470",
   "metadata": {},
   "outputs": [],
   "source": []
  },
  {
   "cell_type": "code",
   "execution_count": null,
   "id": "d358288a-7603-465f-8cc7-b0016cd69e63",
   "metadata": {},
   "outputs": [],
   "source": []
  },
  {
   "cell_type": "code",
   "execution_count": 5,
   "id": "c1271ca0-5cef-45df-8d7a-693573ff7c0b",
   "metadata": {},
   "outputs": [],
   "source": [
    "scaler = MinMaxScaler()\n",
    "X_train_scaled = scaler.fit_transform(X_train)"
   ]
  },
  {
   "cell_type": "code",
   "execution_count": 14,
   "id": "5ea67364-f1df-44fd-b7f4-22e64b56c5a9",
   "metadata": {},
   "outputs": [
    {
     "data": {
      "image/png": "[encoded data removed]",
      "text/plain": [
       "<Figure size 800x550 with 2 Axes>"
      ]
     },
     "metadata": {},
     "output_type": "display_data"
    },
    {
     "data": {
      "text/html": [
       "<style>#sk-container-id-8 {color: black;}#sk-container-id-8 pre{padding: 0;}#sk-container-id-8 div.sk-toggleable {background-color: white;}#sk-container-id-8 label.sk-toggleable__label {cursor: pointer;display: block;width: 100%;margin-bottom: 0;padding: 0.3em;box-sizing: border-box;text-align: center;}#sk-container-id-8 label.sk-toggleable__label-arrow:before {content: \"▸\";float: left;margin-right: 0.25em;color: #696969;}#sk-container-id-8 label.sk-toggleable__label-arrow:hover:before {color: black;}#sk-container-id-8 div.sk-estimator:hover label.sk-toggleable__label-arrow:before {color: black;}#sk-container-id-8 div.sk-toggleable__content {max-height: 0;max-width: 0;overflow: hidden;text-align: left;background-color: #f0f8ff;}#sk-container-id-8 div.sk-toggleable__content pre {margin: 0.2em;color: black;border-radius: 0.25em;background-color: #f0f8ff;}#sk-container-id-8 input.sk-toggleable__control:checked~div.sk-toggleable__content {max-height: 200px;max-width: 100%;overflow: auto;}#sk-container-id-8 input.sk-toggleable__control:checked~label.sk-toggleable__label-arrow:before {content: \"▾\";}#sk-container-id-8 div.sk-estimator input.sk-toggleable__control:checked~label.sk-toggleable__label {background-color: #d4ebff;}#sk-container-id-8 div.sk-label input.sk-toggleable__control:checked~label.sk-toggleable__label {background-color: #d4ebff;}#sk-container-id-8 input.sk-hidden--visually {border: 0;clip: rect(1px 1px 1px 1px);clip: rect(1px, 1px, 1px, 1px);height: 1px;margin: -1px;overflow: hidden;padding: 0;position: absolute;width: 1px;}#sk-container-id-8 div.sk-estimator {font-family: monospace;background-color: #f0f8ff;border: 1px dotted black;border-radius: 0.25em;box-sizing: border-box;margin-bottom: 0.5em;}#sk-container-id-8 div.sk-estimator:hover {background-color: #d4ebff;}#sk-container-id-8 div.sk-parallel-item::after {content: \"\";width: 100%;border-bottom: 1px solid gray;flex-grow: 1;}#sk-container-id-8 div.sk-label:hover label.sk-toggleable__label {background-color: #d4ebff;}#sk-container-id-8 div.sk-serial::before {content: \"\";position: absolute;border-left: 1px solid gray;box-sizing: border-box;top: 0;bottom: 0;left: 50%;z-index: 0;}#sk-container-id-8 div.sk-serial {display: flex;flex-direction: column;align-items: center;background-color: white;padding-right: 0.2em;padding-left: 0.2em;position: relative;}#sk-container-id-8 div.sk-item {position: relative;z-index: 1;}#sk-container-id-8 div.sk-parallel {display: flex;align-items: stretch;justify-content: center;background-color: white;position: relative;}#sk-container-id-8 div.sk-item::before, #sk-container-id-8 div.sk-parallel-item::before {content: \"\";position: absolute;border-left: 1px solid gray;box-sizing: border-box;top: 0;bottom: 0;left: 50%;z-index: -1;}#sk-container-id-8 div.sk-parallel-item {display: flex;flex-direction: column;z-index: 1;position: relative;background-color: white;}#sk-container-id-8 div.sk-parallel-item:first-child::after {align-self: flex-end;width: 50%;}#sk-container-id-8 div.sk-parallel-item:last-child::after {align-self: flex-start;width: 50%;}#sk-container-id-8 div.sk-parallel-item:only-child::after {width: 0;}#sk-container-id-8 div.sk-dashed-wrapped {border: 1px dashed gray;margin: 0 0.4em 0.5em 0.4em;box-sizing: border-box;padding-bottom: 0.4em;background-color: white;}#sk-container-id-8 div.sk-label label {font-family: monospace;font-weight: bold;display: inline-block;line-height: 1.2em;}#sk-container-id-8 div.sk-label-container {text-align: center;}#sk-container-id-8 div.sk-container {/* jupyter's `normalize.less` sets `[hidden] { display: none; }` but bootstrap.min.css set `[hidden] { display: none !important; }` so we also need the `!important` here to be able to override the default hidden behavior on the sphinx rendered scikit-learn.org. See: https://github.com/scikit-learn/scikit-learn/issues/21755 */display: inline-block !important;position: relative;}#sk-container-id-8 div.sk-text-repr-fallback {display: none;}</style><div id=\"sk-container-id-8\" class=\"sk-top-container\"><div class=\"sk-text-repr-fallback\"><pre>KElbowVisualizer(ax=&lt;Axes: title={&#x27;center&#x27;: &#x27;Distortion Score Elbow for KMeans Clustering&#x27;}, xlabel=&#x27;k&#x27;, ylabel=&#x27;distortion score&#x27;&gt;,\n",
       "                 estimator=KMeans(n_clusters=9), k=(2, 10))</pre><b>In a Jupyter environment, please rerun this cell to show the HTML representation or trust the notebook. <br />On GitHub, the HTML representation is unable to render, please try loading this page with nbviewer.org.</b></div><div class=\"sk-container\" hidden><div class=\"sk-item sk-dashed-wrapped\"><div class=\"sk-label-container\"><div class=\"sk-label sk-toggleable\"><input class=\"sk-toggleable__control sk-hidden--visually\" id=\"sk-estimator-id-22\" type=\"checkbox\" ><label for=\"sk-estimator-id-22\" class=\"sk-toggleable__label sk-toggleable__label-arrow\">KElbowVisualizer</label><div class=\"sk-toggleable__content\"><pre>KElbowVisualizer(ax=&lt;Axes: title={&#x27;center&#x27;: &#x27;Distortion Score Elbow for KMeans Clustering&#x27;}, xlabel=&#x27;k&#x27;, ylabel=&#x27;distortion score&#x27;&gt;,\n",
       "                 estimator=KMeans(n_clusters=9), k=(2, 10))</pre></div></div></div><div class=\"sk-parallel\"><div class=\"sk-parallel-item\"><div class=\"sk-item\"><div class=\"sk-label-container\"><div class=\"sk-label sk-toggleable\"><input class=\"sk-toggleable__control sk-hidden--visually\" id=\"sk-estimator-id-23\" type=\"checkbox\" ><label for=\"sk-estimator-id-23\" class=\"sk-toggleable__label sk-toggleable__label-arrow\">estimator: KMeans</label><div class=\"sk-toggleable__content\"><pre>KMeans(n_clusters=9)</pre></div></div></div><div class=\"sk-serial\"><div class=\"sk-item\"><div class=\"sk-estimator sk-toggleable\"><input class=\"sk-toggleable__control sk-hidden--visually\" id=\"sk-estimator-id-24\" type=\"checkbox\" ><label for=\"sk-estimator-id-24\" class=\"sk-toggleable__label sk-toggleable__label-arrow\">KMeans</label><div class=\"sk-toggleable__content\"><pre>KMeans(n_clusters=9)</pre></div></div></div></div></div></div></div></div></div></div>"
      ],
      "text/plain": [
       "KElbowVisualizer(ax=<Axes: title={'center': 'Distortion Score Elbow for KMeans Clustering'}, xlabel='k', ylabel='distortion score'>,\n",
       "                 estimator=KMeans(n_clusters=9), k=(2, 10))"
      ]
     },
     "execution_count": 14,
     "metadata": {},
     "output_type": "execute_result"
    }
   ],
   "source": [
    "kelbow_visualizer(KMeans(), X_train_scaled, k=(2,10))"
   ]
  },
  {
   "cell_type": "code",
   "execution_count": 15,
   "id": "1511055b-151d-4350-b949-2a6808f9b8f4",
   "metadata": {},
   "outputs": [
    {
     "data": {
      "text/html": [
       "<style>#sk-container-id-9 {color: black;}#sk-container-id-9 pre{padding: 0;}#sk-container-id-9 div.sk-toggleable {background-color: white;}#sk-container-id-9 label.sk-toggleable__label {cursor: pointer;display: block;width: 100%;margin-bottom: 0;padding: 0.3em;box-sizing: border-box;text-align: center;}#sk-container-id-9 label.sk-toggleable__label-arrow:before {content: \"▸\";float: left;margin-right: 0.25em;color: #696969;}#sk-container-id-9 label.sk-toggleable__label-arrow:hover:before {color: black;}#sk-container-id-9 div.sk-estimator:hover label.sk-toggleable__label-arrow:before {color: black;}#sk-container-id-9 div.sk-toggleable__content {max-height: 0;max-width: 0;overflow: hidden;text-align: left;background-color: #f0f8ff;}#sk-container-id-9 div.sk-toggleable__content pre {margin: 0.2em;color: black;border-radius: 0.25em;background-color: #f0f8ff;}#sk-container-id-9 input.sk-toggleable__control:checked~div.sk-toggleable__content {max-height: 200px;max-width: 100%;overflow: auto;}#sk-container-id-9 input.sk-toggleable__control:checked~label.sk-toggleable__label-arrow:before {content: \"▾\";}#sk-container-id-9 div.sk-estimator input.sk-toggleable__control:checked~label.sk-toggleable__label {background-color: #d4ebff;}#sk-container-id-9 div.sk-label input.sk-toggleable__control:checked~label.sk-toggleable__label {background-color: #d4ebff;}#sk-container-id-9 input.sk-hidden--visually {border: 0;clip: rect(1px 1px 1px 1px);clip: rect(1px, 1px, 1px, 1px);height: 1px;margin: -1px;overflow: hidden;padding: 0;position: absolute;width: 1px;}#sk-container-id-9 div.sk-estimator {font-family: monospace;background-color: #f0f8ff;border: 1px dotted black;border-radius: 0.25em;box-sizing: border-box;margin-bottom: 0.5em;}#sk-container-id-9 div.sk-estimator:hover {background-color: #d4ebff;}#sk-container-id-9 div.sk-parallel-item::after {content: \"\";width: 100%;border-bottom: 1px solid gray;flex-grow: 1;}#sk-container-id-9 div.sk-label:hover label.sk-toggleable__label {background-color: #d4ebff;}#sk-container-id-9 div.sk-serial::before {content: \"\";position: absolute;border-left: 1px solid gray;box-sizing: border-box;top: 0;bottom: 0;left: 50%;z-index: 0;}#sk-container-id-9 div.sk-serial {display: flex;flex-direction: column;align-items: center;background-color: white;padding-right: 0.2em;padding-left: 0.2em;position: relative;}#sk-container-id-9 div.sk-item {position: relative;z-index: 1;}#sk-container-id-9 div.sk-parallel {display: flex;align-items: stretch;justify-content: center;background-color: white;position: relative;}#sk-container-id-9 div.sk-item::before, #sk-container-id-9 div.sk-parallel-item::before {content: \"\";position: absolute;border-left: 1px solid gray;box-sizing: border-box;top: 0;bottom: 0;left: 50%;z-index: -1;}#sk-container-id-9 div.sk-parallel-item {display: flex;flex-direction: column;z-index: 1;position: relative;background-color: white;}#sk-container-id-9 div.sk-parallel-item:first-child::after {align-self: flex-end;width: 50%;}#sk-container-id-9 div.sk-parallel-item:last-child::after {align-self: flex-start;width: 50%;}#sk-container-id-9 div.sk-parallel-item:only-child::after {width: 0;}#sk-container-id-9 div.sk-dashed-wrapped {border: 1px dashed gray;margin: 0 0.4em 0.5em 0.4em;box-sizing: border-box;padding-bottom: 0.4em;background-color: white;}#sk-container-id-9 div.sk-label label {font-family: monospace;font-weight: bold;display: inline-block;line-height: 1.2em;}#sk-container-id-9 div.sk-label-container {text-align: center;}#sk-container-id-9 div.sk-container {/* jupyter's `normalize.less` sets `[hidden] { display: none; }` but bootstrap.min.css set `[hidden] { display: none !important; }` so we also need the `!important` here to be able to override the default hidden behavior on the sphinx rendered scikit-learn.org. See: https://github.com/scikit-learn/scikit-learn/issues/21755 */display: inline-block !important;position: relative;}#sk-container-id-9 div.sk-text-repr-fallback {display: none;}</style><div id=\"sk-container-id-9\" class=\"sk-top-container\"><div class=\"sk-text-repr-fallback\"><pre>KMeans(n_clusters=5)</pre><b>In a Jupyter environment, please rerun this cell to show the HTML representation or trust the notebook. <br />On GitHub, the HTML representation is unable to render, please try loading this page with nbviewer.org.</b></div><div class=\"sk-container\" hidden><div class=\"sk-item\"><div class=\"sk-estimator sk-toggleable\"><input class=\"sk-toggleable__control sk-hidden--visually\" id=\"sk-estimator-id-25\" type=\"checkbox\" checked><label for=\"sk-estimator-id-25\" class=\"sk-toggleable__label sk-toggleable__label-arrow\">KMeans</label><div class=\"sk-toggleable__content\"><pre>KMeans(n_clusters=5)</pre></div></div></div></div></div>"
      ],
      "text/plain": [
       "KMeans(n_clusters=5)"
      ]
     },
     "execution_count": 15,
     "metadata": {},
     "output_type": "execute_result"
    }
   ],
   "source": [
    "kmeans = KMeans(n_clusters=5)\n",
    "kmeans.fit(X_train_scaled)"
   ]
  },
  {
   "cell_type": "code",
   "execution_count": 29,
   "id": "10c1349e-e748-4f18-9f4e-ef30e54de079",
   "metadata": {},
   "outputs": [],
   "source": [
    "X_train_cluster = X_train.copy()"
   ]
  },
  {
   "cell_type": "code",
   "execution_count": 30,
   "id": "01502000-2ed1-4051-a811-66855d2a3da2",
   "metadata": {},
   "outputs": [
    {
     "data": {
      "text/html": [
       "<div>\n",
       "<style scoped>\n",
       "    .dataframe tbody tr th:only-of-type {\n",
       "        vertical-align: middle;\n",
       "    }\n",
       "\n",
       "    .dataframe tbody tr th {\n",
       "        vertical-align: top;\n",
       "    }\n",
       "\n",
       "    .dataframe thead th {\n",
       "        text-align: right;\n",
       "    }\n",
       "</style>\n",
       "<table border=\"1\" class=\"dataframe\">\n",
       "  <thead>\n",
       "    <tr style=\"text-align: right;\">\n",
       "      <th></th>\n",
       "      <th>Daily Time Spent on Site</th>\n",
       "      <th>Age</th>\n",
       "      <th>Area Income</th>\n",
       "      <th>Daily Internet Usage</th>\n",
       "      <th>Male</th>\n",
       "      <th>Hour_sin</th>\n",
       "      <th>Hour_cos</th>\n",
       "      <th>Weekend</th>\n",
       "      <th>Introvert</th>\n",
       "      <th>Continent_Africa</th>\n",
       "      <th>...</th>\n",
       "      <th>Continent_South America</th>\n",
       "      <th>Ad Location_Lower Banner</th>\n",
       "      <th>Ad Location_Pop Up</th>\n",
       "      <th>Ad Location_Push Notif</th>\n",
       "      <th>Ad Location_Upper Banner</th>\n",
       "      <th>Ad Category_Fashion</th>\n",
       "      <th>Ad Category_Finance</th>\n",
       "      <th>Ad Category_Food</th>\n",
       "      <th>Ad Category_Games</th>\n",
       "      <th>Ad Category_Travel</th>\n",
       "    </tr>\n",
       "  </thead>\n",
       "  <tbody>\n",
       "    <tr>\n",
       "      <th>82</th>\n",
       "      <td>56.64</td>\n",
       "      <td>38</td>\n",
       "      <td>61652.53</td>\n",
       "      <td>115.91</td>\n",
       "      <td>0</td>\n",
       "      <td>-9.976688e-01</td>\n",
       "      <td>-0.068242</td>\n",
       "      <td>0</td>\n",
       "      <td>1</td>\n",
       "      <td>0</td>\n",
       "      <td>...</td>\n",
       "      <td>0</td>\n",
       "      <td>0</td>\n",
       "      <td>0</td>\n",
       "      <td>0</td>\n",
       "      <td>1</td>\n",
       "      <td>0</td>\n",
       "      <td>1</td>\n",
       "      <td>0</td>\n",
       "      <td>0</td>\n",
       "      <td>0</td>\n",
       "    </tr>\n",
       "    <tr>\n",
       "      <th>991</th>\n",
       "      <td>38.96</td>\n",
       "      <td>38</td>\n",
       "      <td>36497.22</td>\n",
       "      <td>140.67</td>\n",
       "      <td>1</td>\n",
       "      <td>-9.422609e-01</td>\n",
       "      <td>-0.334880</td>\n",
       "      <td>0</td>\n",
       "      <td>0</td>\n",
       "      <td>1</td>\n",
       "      <td>...</td>\n",
       "      <td>0</td>\n",
       "      <td>0</td>\n",
       "      <td>0</td>\n",
       "      <td>1</td>\n",
       "      <td>0</td>\n",
       "      <td>1</td>\n",
       "      <td>0</td>\n",
       "      <td>0</td>\n",
       "      <td>0</td>\n",
       "      <td>0</td>\n",
       "    </tr>\n",
       "    <tr>\n",
       "      <th>789</th>\n",
       "      <td>40.88</td>\n",
       "      <td>33</td>\n",
       "      <td>48554.45</td>\n",
       "      <td>136.18</td>\n",
       "      <td>1</td>\n",
       "      <td>-9.976688e-01</td>\n",
       "      <td>-0.068242</td>\n",
       "      <td>0</td>\n",
       "      <td>1</td>\n",
       "      <td>0</td>\n",
       "      <td>...</td>\n",
       "      <td>0</td>\n",
       "      <td>0</td>\n",
       "      <td>1</td>\n",
       "      <td>0</td>\n",
       "      <td>0</td>\n",
       "      <td>0</td>\n",
       "      <td>0</td>\n",
       "      <td>1</td>\n",
       "      <td>0</td>\n",
       "      <td>0</td>\n",
       "    </tr>\n",
       "    <tr>\n",
       "      <th>894</th>\n",
       "      <td>85.37</td>\n",
       "      <td>36</td>\n",
       "      <td>66262.59</td>\n",
       "      <td>194.56</td>\n",
       "      <td>1</td>\n",
       "      <td>-9.976688e-01</td>\n",
       "      <td>-0.068242</td>\n",
       "      <td>0</td>\n",
       "      <td>0</td>\n",
       "      <td>0</td>\n",
       "      <td>...</td>\n",
       "      <td>0</td>\n",
       "      <td>0</td>\n",
       "      <td>1</td>\n",
       "      <td>0</td>\n",
       "      <td>0</td>\n",
       "      <td>0</td>\n",
       "      <td>1</td>\n",
       "      <td>0</td>\n",
       "      <td>0</td>\n",
       "      <td>0</td>\n",
       "    </tr>\n",
       "    <tr>\n",
       "      <th>398</th>\n",
       "      <td>76.24</td>\n",
       "      <td>40</td>\n",
       "      <td>75524.78</td>\n",
       "      <td>198.32</td>\n",
       "      <td>1</td>\n",
       "      <td>-2.449294e-16</td>\n",
       "      <td>1.000000</td>\n",
       "      <td>0</td>\n",
       "      <td>1</td>\n",
       "      <td>1</td>\n",
       "      <td>...</td>\n",
       "      <td>0</td>\n",
       "      <td>0</td>\n",
       "      <td>0</td>\n",
       "      <td>0</td>\n",
       "      <td>1</td>\n",
       "      <td>0</td>\n",
       "      <td>1</td>\n",
       "      <td>0</td>\n",
       "      <td>0</td>\n",
       "      <td>0</td>\n",
       "    </tr>\n",
       "    <tr>\n",
       "      <th>...</th>\n",
       "      <td>...</td>\n",
       "      <td>...</td>\n",
       "      <td>...</td>\n",
       "      <td>...</td>\n",
       "      <td>...</td>\n",
       "      <td>...</td>\n",
       "      <td>...</td>\n",
       "      <td>...</td>\n",
       "      <td>...</td>\n",
       "      <td>...</td>\n",
       "      <td>...</td>\n",
       "      <td>...</td>\n",
       "      <td>...</td>\n",
       "      <td>...</td>\n",
       "      <td>...</td>\n",
       "      <td>...</td>\n",
       "      <td>...</td>\n",
       "      <td>...</td>\n",
       "      <td>...</td>\n",
       "      <td>...</td>\n",
       "      <td>...</td>\n",
       "    </tr>\n",
       "    <tr>\n",
       "      <th>106</th>\n",
       "      <td>72.23</td>\n",
       "      <td>25</td>\n",
       "      <td>46557.92</td>\n",
       "      <td>241.03</td>\n",
       "      <td>1</td>\n",
       "      <td>-9.976688e-01</td>\n",
       "      <td>-0.068242</td>\n",
       "      <td>0</td>\n",
       "      <td>1</td>\n",
       "      <td>0</td>\n",
       "      <td>...</td>\n",
       "      <td>0</td>\n",
       "      <td>0</td>\n",
       "      <td>0</td>\n",
       "      <td>1</td>\n",
       "      <td>0</td>\n",
       "      <td>0</td>\n",
       "      <td>0</td>\n",
       "      <td>1</td>\n",
       "      <td>0</td>\n",
       "      <td>0</td>\n",
       "    </tr>\n",
       "    <tr>\n",
       "      <th>270</th>\n",
       "      <td>44.49</td>\n",
       "      <td>53</td>\n",
       "      <td>63100.13</td>\n",
       "      <td>168.00</td>\n",
       "      <td>1</td>\n",
       "      <td>9.976688e-01</td>\n",
       "      <td>-0.068242</td>\n",
       "      <td>1</td>\n",
       "      <td>0</td>\n",
       "      <td>1</td>\n",
       "      <td>...</td>\n",
       "      <td>0</td>\n",
       "      <td>1</td>\n",
       "      <td>0</td>\n",
       "      <td>0</td>\n",
       "      <td>0</td>\n",
       "      <td>0</td>\n",
       "      <td>1</td>\n",
       "      <td>0</td>\n",
       "      <td>0</td>\n",
       "      <td>0</td>\n",
       "    </tr>\n",
       "    <tr>\n",
       "      <th>860</th>\n",
       "      <td>91.37</td>\n",
       "      <td>45</td>\n",
       "      <td>51920.49</td>\n",
       "      <td>182.65</td>\n",
       "      <td>1</td>\n",
       "      <td>9.422609e-01</td>\n",
       "      <td>-0.334880</td>\n",
       "      <td>0</td>\n",
       "      <td>1</td>\n",
       "      <td>0</td>\n",
       "      <td>...</td>\n",
       "      <td>0</td>\n",
       "      <td>1</td>\n",
       "      <td>0</td>\n",
       "      <td>0</td>\n",
       "      <td>0</td>\n",
       "      <td>0</td>\n",
       "      <td>1</td>\n",
       "      <td>0</td>\n",
       "      <td>0</td>\n",
       "      <td>0</td>\n",
       "    </tr>\n",
       "    <tr>\n",
       "      <th>435</th>\n",
       "      <td>56.66</td>\n",
       "      <td>42</td>\n",
       "      <td>72684.44</td>\n",
       "      <td>139.42</td>\n",
       "      <td>0</td>\n",
       "      <td>3.984011e-01</td>\n",
       "      <td>-0.917211</td>\n",
       "      <td>1</td>\n",
       "      <td>1</td>\n",
       "      <td>0</td>\n",
       "      <td>...</td>\n",
       "      <td>0</td>\n",
       "      <td>0</td>\n",
       "      <td>0</td>\n",
       "      <td>0</td>\n",
       "      <td>1</td>\n",
       "      <td>0</td>\n",
       "      <td>0</td>\n",
       "      <td>0</td>\n",
       "      <td>0</td>\n",
       "      <td>1</td>\n",
       "    </tr>\n",
       "    <tr>\n",
       "      <th>102</th>\n",
       "      <td>89.91</td>\n",
       "      <td>40</td>\n",
       "      <td>59593.56</td>\n",
       "      <td>194.23</td>\n",
       "      <td>0</td>\n",
       "      <td>-6.310879e-01</td>\n",
       "      <td>-0.775711</td>\n",
       "      <td>1</td>\n",
       "      <td>1</td>\n",
       "      <td>0</td>\n",
       "      <td>...</td>\n",
       "      <td>0</td>\n",
       "      <td>0</td>\n",
       "      <td>1</td>\n",
       "      <td>0</td>\n",
       "      <td>0</td>\n",
       "      <td>0</td>\n",
       "      <td>0</td>\n",
       "      <td>0</td>\n",
       "      <td>0</td>\n",
       "      <td>1</td>\n",
       "    </tr>\n",
       "  </tbody>\n",
       "</table>\n",
       "<p>750 rows × 25 columns</p>\n",
       "</div>"
      ],
      "text/plain": [
       "     Daily Time Spent on Site  Age  Area Income  Daily Internet Usage  Male  \\\n",
       "82                      56.64   38     61652.53                115.91     0   \n",
       "991                     38.96   38     36497.22                140.67     1   \n",
       "789                     40.88   33     48554.45                136.18     1   \n",
       "894                     85.37   36     66262.59                194.56     1   \n",
       "398                     76.24   40     75524.78                198.32     1   \n",
       "..                        ...  ...          ...                   ...   ...   \n",
       "106                     72.23   25     46557.92                241.03     1   \n",
       "270                     44.49   53     63100.13                168.00     1   \n",
       "860                     91.37   45     51920.49                182.65     1   \n",
       "435                     56.66   42     72684.44                139.42     0   \n",
       "102                     89.91   40     59593.56                194.23     0   \n",
       "\n",
       "         Hour_sin  Hour_cos  Weekend  Introvert  Continent_Africa  ...  \\\n",
       "82  -9.976688e-01 -0.068242        0          1                 0  ...   \n",
       "991 -9.422609e-01 -0.334880        0          0                 1  ...   \n",
       "789 -9.976688e-01 -0.068242        0          1                 0  ...   \n",
       "894 -9.976688e-01 -0.068242        0          0                 0  ...   \n",
       "398 -2.449294e-16  1.000000        0          1                 1  ...   \n",
       "..            ...       ...      ...        ...               ...  ...   \n",
       "106 -9.976688e-01 -0.068242        0          1                 0  ...   \n",
       "270  9.976688e-01 -0.068242        1          0                 1  ...   \n",
       "860  9.422609e-01 -0.334880        0          1                 0  ...   \n",
       "435  3.984011e-01 -0.917211        1          1                 0  ...   \n",
       "102 -6.310879e-01 -0.775711        1          1                 0  ...   \n",
       "\n",
       "     Continent_South America  Ad Location_Lower Banner  Ad Location_Pop Up  \\\n",
       "82                         0                         0                   0   \n",
       "991                        0                         0                   0   \n",
       "789                        0                         0                   1   \n",
       "894                        0                         0                   1   \n",
       "398                        0                         0                   0   \n",
       "..                       ...                       ...                 ...   \n",
       "106                        0                         0                   0   \n",
       "270                        0                         1                   0   \n",
       "860                        0                         1                   0   \n",
       "435                        0                         0                   0   \n",
       "102                        0                         0                   1   \n",
       "\n",
       "     Ad Location_Push Notif  Ad Location_Upper Banner  Ad Category_Fashion  \\\n",
       "82                        0                         1                    0   \n",
       "991                       1                         0                    1   \n",
       "789                       0                         0                    0   \n",
       "894                       0                         0                    0   \n",
       "398                       0                         1                    0   \n",
       "..                      ...                       ...                  ...   \n",
       "106                       1                         0                    0   \n",
       "270                       0                         0                    0   \n",
       "860                       0                         0                    0   \n",
       "435                       0                         1                    0   \n",
       "102                       0                         0                    0   \n",
       "\n",
       "     Ad Category_Finance  Ad Category_Food  Ad Category_Games  \\\n",
       "82                     1                 0                  0   \n",
       "991                    0                 0                  0   \n",
       "789                    0                 1                  0   \n",
       "894                    1                 0                  0   \n",
       "398                    1                 0                  0   \n",
       "..                   ...               ...                ...   \n",
       "106                    0                 1                  0   \n",
       "270                    1                 0                  0   \n",
       "860                    1                 0                  0   \n",
       "435                    0                 0                  0   \n",
       "102                    0                 0                  0   \n",
       "\n",
       "     Ad Category_Travel  \n",
       "82                    0  \n",
       "991                   0  \n",
       "789                   0  \n",
       "894                   0  \n",
       "398                   0  \n",
       "..                  ...  \n",
       "106                   0  \n",
       "270                   0  \n",
       "860                   0  \n",
       "435                   1  \n",
       "102                   1  \n",
       "\n",
       "[750 rows x 25 columns]"
      ]
     },
     "execution_count": 30,
     "metadata": {},
     "output_type": "execute_result"
    }
   ],
   "source": [
    "X_train_cluster"
   ]
  },
  {
   "cell_type": "code",
   "execution_count": 32,
   "id": "84e7f153-e8d0-4c2b-814f-eaccfe0eab19",
   "metadata": {},
   "outputs": [],
   "source": [
    "X_train_cluster['cluster'] = kmeans.labels_"
   ]
  },
  {
   "cell_type": "code",
   "execution_count": 34,
   "id": "aa3bb51c-73b7-4fa2-ac2b-60f31fbecf7a",
   "metadata": {},
   "outputs": [
    {
     "data": {
      "text/html": [
       "<div>\n",
       "<style scoped>\n",
       "    .dataframe tbody tr th:only-of-type {\n",
       "        vertical-align: middle;\n",
       "    }\n",
       "\n",
       "    .dataframe tbody tr th {\n",
       "        vertical-align: top;\n",
       "    }\n",
       "\n",
       "    .dataframe thead th {\n",
       "        text-align: right;\n",
       "    }\n",
       "</style>\n",
       "<table border=\"1\" class=\"dataframe\">\n",
       "  <thead>\n",
       "    <tr style=\"text-align: right;\">\n",
       "      <th></th>\n",
       "      <th>Daily Time Spent on Site</th>\n",
       "      <th>Age</th>\n",
       "      <th>Area Income</th>\n",
       "      <th>Daily Internet Usage</th>\n",
       "      <th>Male</th>\n",
       "      <th>Hour_sin</th>\n",
       "      <th>Hour_cos</th>\n",
       "      <th>Weekend</th>\n",
       "      <th>Introvert</th>\n",
       "      <th>Continent_Africa</th>\n",
       "      <th>...</th>\n",
       "      <th>Ad Location_Lower Banner</th>\n",
       "      <th>Ad Location_Pop Up</th>\n",
       "      <th>Ad Location_Push Notif</th>\n",
       "      <th>Ad Location_Upper Banner</th>\n",
       "      <th>Ad Category_Fashion</th>\n",
       "      <th>Ad Category_Finance</th>\n",
       "      <th>Ad Category_Food</th>\n",
       "      <th>Ad Category_Games</th>\n",
       "      <th>Ad Category_Travel</th>\n",
       "      <th>cluster</th>\n",
       "    </tr>\n",
       "  </thead>\n",
       "  <tbody>\n",
       "    <tr>\n",
       "      <th>82</th>\n",
       "      <td>56.64</td>\n",
       "      <td>38</td>\n",
       "      <td>61652.53</td>\n",
       "      <td>115.91</td>\n",
       "      <td>0</td>\n",
       "      <td>-9.976688e-01</td>\n",
       "      <td>-0.068242</td>\n",
       "      <td>0</td>\n",
       "      <td>1</td>\n",
       "      <td>0</td>\n",
       "      <td>...</td>\n",
       "      <td>0</td>\n",
       "      <td>0</td>\n",
       "      <td>0</td>\n",
       "      <td>1</td>\n",
       "      <td>0</td>\n",
       "      <td>1</td>\n",
       "      <td>0</td>\n",
       "      <td>0</td>\n",
       "      <td>0</td>\n",
       "      <td>0</td>\n",
       "    </tr>\n",
       "    <tr>\n",
       "      <th>991</th>\n",
       "      <td>38.96</td>\n",
       "      <td>38</td>\n",
       "      <td>36497.22</td>\n",
       "      <td>140.67</td>\n",
       "      <td>1</td>\n",
       "      <td>-9.422609e-01</td>\n",
       "      <td>-0.334880</td>\n",
       "      <td>0</td>\n",
       "      <td>0</td>\n",
       "      <td>1</td>\n",
       "      <td>...</td>\n",
       "      <td>0</td>\n",
       "      <td>0</td>\n",
       "      <td>1</td>\n",
       "      <td>0</td>\n",
       "      <td>1</td>\n",
       "      <td>0</td>\n",
       "      <td>0</td>\n",
       "      <td>0</td>\n",
       "      <td>0</td>\n",
       "      <td>2</td>\n",
       "    </tr>\n",
       "    <tr>\n",
       "      <th>789</th>\n",
       "      <td>40.88</td>\n",
       "      <td>33</td>\n",
       "      <td>48554.45</td>\n",
       "      <td>136.18</td>\n",
       "      <td>1</td>\n",
       "      <td>-9.976688e-01</td>\n",
       "      <td>-0.068242</td>\n",
       "      <td>0</td>\n",
       "      <td>1</td>\n",
       "      <td>0</td>\n",
       "      <td>...</td>\n",
       "      <td>0</td>\n",
       "      <td>1</td>\n",
       "      <td>0</td>\n",
       "      <td>0</td>\n",
       "      <td>0</td>\n",
       "      <td>0</td>\n",
       "      <td>1</td>\n",
       "      <td>0</td>\n",
       "      <td>0</td>\n",
       "      <td>4</td>\n",
       "    </tr>\n",
       "    <tr>\n",
       "      <th>894</th>\n",
       "      <td>85.37</td>\n",
       "      <td>36</td>\n",
       "      <td>66262.59</td>\n",
       "      <td>194.56</td>\n",
       "      <td>1</td>\n",
       "      <td>-9.976688e-01</td>\n",
       "      <td>-0.068242</td>\n",
       "      <td>0</td>\n",
       "      <td>0</td>\n",
       "      <td>0</td>\n",
       "      <td>...</td>\n",
       "      <td>0</td>\n",
       "      <td>1</td>\n",
       "      <td>0</td>\n",
       "      <td>0</td>\n",
       "      <td>0</td>\n",
       "      <td>1</td>\n",
       "      <td>0</td>\n",
       "      <td>0</td>\n",
       "      <td>0</td>\n",
       "      <td>4</td>\n",
       "    </tr>\n",
       "    <tr>\n",
       "      <th>398</th>\n",
       "      <td>76.24</td>\n",
       "      <td>40</td>\n",
       "      <td>75524.78</td>\n",
       "      <td>198.32</td>\n",
       "      <td>1</td>\n",
       "      <td>-2.449294e-16</td>\n",
       "      <td>1.000000</td>\n",
       "      <td>0</td>\n",
       "      <td>1</td>\n",
       "      <td>1</td>\n",
       "      <td>...</td>\n",
       "      <td>0</td>\n",
       "      <td>0</td>\n",
       "      <td>0</td>\n",
       "      <td>1</td>\n",
       "      <td>0</td>\n",
       "      <td>1</td>\n",
       "      <td>0</td>\n",
       "      <td>0</td>\n",
       "      <td>0</td>\n",
       "      <td>0</td>\n",
       "    </tr>\n",
       "    <tr>\n",
       "      <th>...</th>\n",
       "      <td>...</td>\n",
       "      <td>...</td>\n",
       "      <td>...</td>\n",
       "      <td>...</td>\n",
       "      <td>...</td>\n",
       "      <td>...</td>\n",
       "      <td>...</td>\n",
       "      <td>...</td>\n",
       "      <td>...</td>\n",
       "      <td>...</td>\n",
       "      <td>...</td>\n",
       "      <td>...</td>\n",
       "      <td>...</td>\n",
       "      <td>...</td>\n",
       "      <td>...</td>\n",
       "      <td>...</td>\n",
       "      <td>...</td>\n",
       "      <td>...</td>\n",
       "      <td>...</td>\n",
       "      <td>...</td>\n",
       "      <td>...</td>\n",
       "    </tr>\n",
       "    <tr>\n",
       "      <th>106</th>\n",
       "      <td>72.23</td>\n",
       "      <td>25</td>\n",
       "      <td>46557.92</td>\n",
       "      <td>241.03</td>\n",
       "      <td>1</td>\n",
       "      <td>-9.976688e-01</td>\n",
       "      <td>-0.068242</td>\n",
       "      <td>0</td>\n",
       "      <td>1</td>\n",
       "      <td>0</td>\n",
       "      <td>...</td>\n",
       "      <td>0</td>\n",
       "      <td>0</td>\n",
       "      <td>1</td>\n",
       "      <td>0</td>\n",
       "      <td>0</td>\n",
       "      <td>0</td>\n",
       "      <td>1</td>\n",
       "      <td>0</td>\n",
       "      <td>0</td>\n",
       "      <td>2</td>\n",
       "    </tr>\n",
       "    <tr>\n",
       "      <th>270</th>\n",
       "      <td>44.49</td>\n",
       "      <td>53</td>\n",
       "      <td>63100.13</td>\n",
       "      <td>168.00</td>\n",
       "      <td>1</td>\n",
       "      <td>9.976688e-01</td>\n",
       "      <td>-0.068242</td>\n",
       "      <td>1</td>\n",
       "      <td>0</td>\n",
       "      <td>1</td>\n",
       "      <td>...</td>\n",
       "      <td>1</td>\n",
       "      <td>0</td>\n",
       "      <td>0</td>\n",
       "      <td>0</td>\n",
       "      <td>0</td>\n",
       "      <td>1</td>\n",
       "      <td>0</td>\n",
       "      <td>0</td>\n",
       "      <td>0</td>\n",
       "      <td>3</td>\n",
       "    </tr>\n",
       "    <tr>\n",
       "      <th>860</th>\n",
       "      <td>91.37</td>\n",
       "      <td>45</td>\n",
       "      <td>51920.49</td>\n",
       "      <td>182.65</td>\n",
       "      <td>1</td>\n",
       "      <td>9.422609e-01</td>\n",
       "      <td>-0.334880</td>\n",
       "      <td>0</td>\n",
       "      <td>1</td>\n",
       "      <td>0</td>\n",
       "      <td>...</td>\n",
       "      <td>1</td>\n",
       "      <td>0</td>\n",
       "      <td>0</td>\n",
       "      <td>0</td>\n",
       "      <td>0</td>\n",
       "      <td>1</td>\n",
       "      <td>0</td>\n",
       "      <td>0</td>\n",
       "      <td>0</td>\n",
       "      <td>3</td>\n",
       "    </tr>\n",
       "    <tr>\n",
       "      <th>435</th>\n",
       "      <td>56.66</td>\n",
       "      <td>42</td>\n",
       "      <td>72684.44</td>\n",
       "      <td>139.42</td>\n",
       "      <td>0</td>\n",
       "      <td>3.984011e-01</td>\n",
       "      <td>-0.917211</td>\n",
       "      <td>1</td>\n",
       "      <td>1</td>\n",
       "      <td>0</td>\n",
       "      <td>...</td>\n",
       "      <td>0</td>\n",
       "      <td>0</td>\n",
       "      <td>0</td>\n",
       "      <td>1</td>\n",
       "      <td>0</td>\n",
       "      <td>0</td>\n",
       "      <td>0</td>\n",
       "      <td>0</td>\n",
       "      <td>1</td>\n",
       "      <td>0</td>\n",
       "    </tr>\n",
       "    <tr>\n",
       "      <th>102</th>\n",
       "      <td>89.91</td>\n",
       "      <td>40</td>\n",
       "      <td>59593.56</td>\n",
       "      <td>194.23</td>\n",
       "      <td>0</td>\n",
       "      <td>-6.310879e-01</td>\n",
       "      <td>-0.775711</td>\n",
       "      <td>1</td>\n",
       "      <td>1</td>\n",
       "      <td>0</td>\n",
       "      <td>...</td>\n",
       "      <td>0</td>\n",
       "      <td>1</td>\n",
       "      <td>0</td>\n",
       "      <td>0</td>\n",
       "      <td>0</td>\n",
       "      <td>0</td>\n",
       "      <td>0</td>\n",
       "      <td>0</td>\n",
       "      <td>1</td>\n",
       "      <td>4</td>\n",
       "    </tr>\n",
       "  </tbody>\n",
       "</table>\n",
       "<p>750 rows × 26 columns</p>\n",
       "</div>"
      ],
      "text/plain": [
       "     Daily Time Spent on Site  Age  Area Income  Daily Internet Usage  Male  \\\n",
       "82                      56.64   38     61652.53                115.91     0   \n",
       "991                     38.96   38     36497.22                140.67     1   \n",
       "789                     40.88   33     48554.45                136.18     1   \n",
       "894                     85.37   36     66262.59                194.56     1   \n",
       "398                     76.24   40     75524.78                198.32     1   \n",
       "..                        ...  ...          ...                   ...   ...   \n",
       "106                     72.23   25     46557.92                241.03     1   \n",
       "270                     44.49   53     63100.13                168.00     1   \n",
       "860                     91.37   45     51920.49                182.65     1   \n",
       "435                     56.66   42     72684.44                139.42     0   \n",
       "102                     89.91   40     59593.56                194.23     0   \n",
       "\n",
       "         Hour_sin  Hour_cos  Weekend  Introvert  Continent_Africa  ...  \\\n",
       "82  -9.976688e-01 -0.068242        0          1                 0  ...   \n",
       "991 -9.422609e-01 -0.334880        0          0                 1  ...   \n",
       "789 -9.976688e-01 -0.068242        0          1                 0  ...   \n",
       "894 -9.976688e-01 -0.068242        0          0                 0  ...   \n",
       "398 -2.449294e-16  1.000000        0          1                 1  ...   \n",
       "..            ...       ...      ...        ...               ...  ...   \n",
       "106 -9.976688e-01 -0.068242        0          1                 0  ...   \n",
       "270  9.976688e-01 -0.068242        1          0                 1  ...   \n",
       "860  9.422609e-01 -0.334880        0          1                 0  ...   \n",
       "435  3.984011e-01 -0.917211        1          1                 0  ...   \n",
       "102 -6.310879e-01 -0.775711        1          1                 0  ...   \n",
       "\n",
       "     Ad Location_Lower Banner  Ad Location_Pop Up  Ad Location_Push Notif  \\\n",
       "82                          0                   0                       0   \n",
       "991                         0                   0                       1   \n",
       "789                         0                   1                       0   \n",
       "894                         0                   1                       0   \n",
       "398                         0                   0                       0   \n",
       "..                        ...                 ...                     ...   \n",
       "106                         0                   0                       1   \n",
       "270                         1                   0                       0   \n",
       "860                         1                   0                       0   \n",
       "435                         0                   0                       0   \n",
       "102                         0                   1                       0   \n",
       "\n",
       "     Ad Location_Upper Banner  Ad Category_Fashion  Ad Category_Finance  \\\n",
       "82                          1                    0                    1   \n",
       "991                         0                    1                    0   \n",
       "789                         0                    0                    0   \n",
       "894                         0                    0                    1   \n",
       "398                         1                    0                    1   \n",
       "..                        ...                  ...                  ...   \n",
       "106                         0                    0                    0   \n",
       "270                         0                    0                    1   \n",
       "860                         0                    0                    1   \n",
       "435                         1                    0                    0   \n",
       "102                         0                    0                    0   \n",
       "\n",
       "     Ad Category_Food  Ad Category_Games  Ad Category_Travel  cluster  \n",
       "82                  0                  0                   0        0  \n",
       "991                 0                  0                   0        2  \n",
       "789                 1                  0                   0        4  \n",
       "894                 0                  0                   0        4  \n",
       "398                 0                  0                   0        0  \n",
       "..                ...                ...                 ...      ...  \n",
       "106                 1                  0                   0        2  \n",
       "270                 0                  0                   0        3  \n",
       "860                 0                  0                   0        3  \n",
       "435                 0                  0                   1        0  \n",
       "102                 0                  0                   1        4  \n",
       "\n",
       "[750 rows x 26 columns]"
      ]
     },
     "execution_count": 34,
     "metadata": {},
     "output_type": "execute_result"
    }
   ],
   "source": [
    "X_train_cluster "
   ]
  },
  {
   "cell_type": "code",
   "execution_count": 35,
   "id": "74a4f070-8308-4db4-bc96-acefd7af5494",
   "metadata": {},
   "outputs": [],
   "source": [
    "pickle.dump(scaler, open('scaler.pkl', 'wb'))"
   ]
  },
  {
   "cell_type": "code",
   "execution_count": 36,
   "id": "22c7e393-1c0d-4cac-85c1-33753da796d1",
   "metadata": {},
   "outputs": [],
   "source": [
    "pickle.dump(kmeans, open('kmeans.pkl', 'wb'))"
   ]
  },
  {
   "cell_type": "code",
   "execution_count": 42,
   "id": "69849644-721c-4497-ba76-c5e9dbcb0361",
   "metadata": {},
   "outputs": [],
   "source": [
    "#X_train.to_csv('df_test_cluster.csv', index=False)"
   ]
  },
  {
   "cell_type": "code",
   "execution_count": 53,
   "id": "278e0a9e-8b90-4fab-bb84-98d8d7e20b58",
   "metadata": {},
   "outputs": [
    {
     "name": "stderr",
     "output_type": "stream",
     "text": [
      "100%|████████████████████████████████████████████████████████████████████████████████| 100/100 [02:38<00:00,  1.58s/it]\n"
     ]
    }
   ],
   "source": [
    "explainer = shap.KernelExplainer(kmeans.predict, X_train_scaled[0:100])\n",
    "shap_values = explainer.shap_values(X_train_scaled[0:100])"
   ]
  },
  {
   "cell_type": "code",
   "execution_count": 55,
   "id": "304b2bda-4968-487b-a350-5ad81e09585d",
   "metadata": {},
   "outputs": [
    {
     "data": {
      "image/png": "[encoded data removed]",
      "text/plain": [
       "<Figure size 800x950 with 2 Axes>"
      ]
     },
     "metadata": {},
     "output_type": "display_data"
    }
   ],
   "source": [
    "shap.summary_plot(shap_values, X_train_scaled[0:100], feature_names=X_train.columns)"
   ]
  },
  {
   "cell_type": "code",
   "execution_count": 68,
   "id": "cba665ca-f273-483c-906d-4675784fc5d9",
   "metadata": {},
   "outputs": [
    {
     "name": "stderr",
     "output_type": "stream",
     "text": [
      "100%|████████████████████████████████████████████████████████████████████████████████| 100/100 [02:41<00:00,  1.62s/it]\n"
     ]
    }
   ],
   "source": [
    "data = shap.kmeans(X_train_scaled, 100)\n",
    "explainer = shap.KernelExplainer(kmeans.predict, data)\n",
    "shap_values = explainer.shap_values(X_train_scaled[0:100])"
   ]
  },
  {
   "cell_type": "code",
   "execution_count": 70,
   "id": "35780036-d84b-4bd2-b56e-3835ae0c797f",
   "metadata": {},
   "outputs": [
    {
     "data": {
      "image/png": "[encoded data removed]",
      "text/plain": [
       "<Figure size 800x950 with 2 Axes>"
      ]
     },
     "metadata": {},
     "output_type": "display_data"
    }
   ],
   "source": [
    "shap.summary_plot(shap_values, X_train_scaled[0:100], feature_names=X_train.columns)"
   ]
  },
  {
   "cell_type": "code",
   "execution_count": 71,
   "id": "21371722-7cf5-42df-8d09-fa17ce58575c",
   "metadata": {},
   "outputs": [],
   "source": [
    "dates = ['All', '2016 January', '2016 February']"
   ]
  },
  {
   "cell_type": "code",
   "execution_count": 72,
   "id": "7d7c5aff-6a8e-45bf-ad8b-3c74ff676b61",
   "metadata": {},
   "outputs": [
    {
     "data": {
      "text/plain": [
       "0"
      ]
     },
     "execution_count": 72,
     "metadata": {},
     "output_type": "execute_result"
    }
   ],
   "source": [
    "dates.index('All')"
   ]
  },
  {
   "cell_type": "code",
   "execution_count": null,
   "id": "55956465-3504-4527-89fc-733cd5d6f323",
   "metadata": {},
   "outputs": [],
   "source": []
  }
 ],
 "metadata": {
  "kernelspec": {
   "display_name": "Python 3 (ipykernel)",
   "language": "python",
   "name": "python3"
  },
  "language_info": {
   "codemirror_mode": {
    "name": "ipython",
    "version": 3
   },
   "file_extension": ".py",
   "mimetype": "text/x-python",
   "name": "python",
   "nbconvert_exporter": "python",
   "pygments_lexer": "ipython3",
   "version": "3.10.11"
  }
 },
 "nbformat": 4,
 "nbformat_minor": 5
}
